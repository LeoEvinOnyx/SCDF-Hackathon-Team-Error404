{
    "cells": [
        {
            "cell_type": "code",
            "execution_count": 1,
            "metadata": {},
            "outputs": [],
            "source": "import time"
        },
        {
            "cell_type": "code",
            "execution_count": null,
            "metadata": {
                "scrolled": true
            },
            "outputs": [],
            "source": "def fall(): #get total sum acceleration vector and angular velocity \n        if acceleration.get_x > 2.3:             #check for spike during fall impact\n            t_end = time.time() + 20\n            while time.time() < t_end:          #checks if the user is consious for 20 seconds\n                if button == True:              #user consious\n                    return\n            return \"{}: Fell and has not responded\".format(user)                #notify person in-charge of possible injury\n            \n                    \n\n    "
        },
        {
            "cell_type": "code",
            "execution_count": null,
            "metadata": {},
            "outputs": [],
            "source": "user = \"Bames Jond\"\nheartbeat = True\nstep = 0\n\nwhile user != None:\n    #step counter\n    if running == True && accelerometer.swing == True:\n        step += 1\n    #fall check\n    if acceleration.get_x < 0.6 : #check if acceleration down resembles a fall\n        fall()\n    #Tachycardia: Fast Heart Rate\n    if running == False:        #if user not running\n        time.sleep(60*10) #wait 10 minutes before checking\n        if heartrate.get > 100: #check if heartrate is more than 100 BPM after 10 minutes of rest\n            print(\"{}: Abnormal heartrate(Tachycardia)\".format(user) )\n            \n    \n        \n    \n    \n    \n\n        "
        },
        {
            "cell_type": "code",
            "execution_count": 27,
            "metadata": {},
            "outputs": [],
            "source": ""
        },
        {
            "cell_type": "code",
            "execution_count": null,
            "metadata": {},
            "outputs": [],
            "source": ""
        },
        {
            "cell_type": "code",
            "execution_count": null,
            "metadata": {},
            "outputs": [],
            "source": ""
        }
    ],
    "metadata": {
        "kernelspec": {
            "display_name": "Python 3.6",
            "language": "python",
            "name": "python3"
        },
        "language_info": {
            "codemirror_mode": {
                "name": "ipython",
                "version": 3
            },
            "file_extension": ".py",
            "mimetype": "text/x-python",
            "name": "python",
            "nbconvert_exporter": "python",
            "pygments_lexer": "ipython3",
            "version": "3.6.9"
        }
    },
    "nbformat": 4,
    "nbformat_minor": 1
}